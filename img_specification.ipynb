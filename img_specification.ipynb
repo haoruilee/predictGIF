{
 "cells": [
  {
   "cell_type": "markdown",
   "metadata": {},
   "source": [
    "# 直方图规定化\n",
    "61518407 李浩瑞 完成于2020.3.28\n",
    "\n",
    "\n",
    "- 先对原、目标图像直方图均衡化\n",
    "$$S=T(r)=\\int_{0}^{r} P_{r}(r) d r$$\n",
    "$$V=G(Z)=\\int_{0}^{x} p_{z}(z) d z$$\n",
    "  - 离散形式\n",
    "  $$\\begin{aligned}\n",
    "&\\begin{aligned}\n",
    "S_{k} &=T\\left(r_{k}\\right)=\\sum_{j=0}^{k} P_{r}\\left(r_{j}\\right) \\\\\n",
    "&=\\sum_{j=0}^{k} \\frac{n_{j}}{n} \\quad k=0,1, \\cdots, L-1\n",
    "\\end{aligned}\n",
    "\\end{aligned}$$\n",
    "- 进行匹配\n",
    "$$v_{k}=G\\left(z_{k}\\right)=\\sum_{i=0}^{k} P_{z}\\left(z_{i}\\right)=s_{k} \\quad k=0,1,2 \\cdots L-1$$\n",
    "  - 近似处理：寻找与下式最接近的$z_{k}$即可\n",
    "  $$G\\left(z_{k}\\right)-s_{k}=0$$"
   ]
  },
  {
   "cell_type": "code",
   "execution_count": 1,
   "metadata": {},
   "outputs": [],
   "source": [
    "import cv2 #opencv读取的格式是BGR\n",
    "import numpy as np\n",
    "import matplotlib.pyplot as plt#Matplotlib是RGB"
   ]
  },
  {
   "cell_type": "code",
   "execution_count": 2,
   "metadata": {},
   "outputs": [
    {
     "data": {
      "image/png": "[encoded data removed]",
      "text/plain": [
       "<Figure size 432x288 with 1 Axes>"
      ]
     },
     "metadata": {
      "needs_background": "light"
     },
     "output_type": "display_data"
    }
   ],
   "source": [
    "#展示我的灰度\n",
    "img_me = cv2.imread('me.jpg',0) #0表示灰度图\n",
    "hist = cv2.calcHist([img_me],[0],None,[256],[0,256])\n",
    "plt.hist(img_me.ravel(),256); \n",
    "plt.show()"
   ]
  },
  {
   "cell_type": "code",
   "execution_count": 3,
   "metadata": {},
   "outputs": [
    {
     "data": {
      "image/png": "[encoded data removed]",
      "text/plain": [
       "<Figure size 432x288 with 1 Axes>"
      ]
     },
     "metadata": {
      "needs_background": "light"
     },
     "output_type": "display_data"
    }
   ],
   "source": [
    "#展示梵高星空的灰度\n",
    "img_starnight = cv2.imread('starnight.png',0) #0表示灰度图\n",
    "hist = cv2.calcHist([img_me],[0],None,[256],[0,256])\n",
    "plt.hist(img_starnight.ravel(),256); \n",
    "plt.show()"
   ]
  },
  {
   "cell_type": "code",
   "execution_count": 4,
   "metadata": {},
   "outputs": [],
   "source": [
    "##Histogram equalization\n",
    "def equalization(img,hist,num,eq_hist):\n",
    "    '''\n",
    "    This function can do the equalization and return the statics.\n",
    "    Notice: hist,num,eq_hist should be list()\n",
    "    '''\n",
    "    for i in range(256):\n",
    "        hist.append(0)\n",
    "    row,col=img.shape\n",
    "    for i in range(row):\n",
    "        for j in range(col):\n",
    "            hist[img[i,j]]= hist[img[i,j]]+1#统计灰度值的个数\n",
    "    num.append(hist[0]/img.size)\n",
    "    for i in range(0,255):\n",
    "        num.append(num[i]+hist[i+1]/img.size)\n",
    "    for i in range(256):\n",
    "        eq_hist.append(round(255*num[i]))"
   ]
  },
  {
   "cell_type": "code",
   "execution_count": 5,
   "metadata": {},
   "outputs": [],
   "source": [
    "#Histogram specification (matching)\n",
    "def  specification(imag_row,imag_tar,save_name):\n",
    "    '''\n",
    "    This function can do the equalization and specification from imag_row to imag_tar.\n",
    "    After the operater, shifted image will be saved as 'save_name.png'  \n",
    "    '''\n",
    "    #原图像均衡化\n",
    "    Hist1=[]\n",
    "    Num1=[]\n",
    "    eq_Hist1=[]\n",
    "    equalization(imag_row,Hist1,Num1,eq_Hist1)\n",
    "        \n",
    "    #目标图像均衡化\n",
    "    Hist2=[]\n",
    "    Num2=[]\n",
    "    eq_Hist2=[]\n",
    "    equalization(imag_tar,Hist2,Num2,eq_Hist2)\n",
    "    \n",
    "    g=[]#用于放入规定化后的图片像素\n",
    "    for i in range(256):\n",
    "        a=eq_Hist1[i]\n",
    "        minp=255\n",
    "        for j in range(256):\n",
    "            b=abs(eq_Hist2[j]-a)\n",
    "            if b<minp:                \n",
    "                minp=b\n",
    "                jmin=j\n",
    "        g.append(jmin)\n",
    "    for i in range(imag_row.shape[0]):#imag_row.shape[0]为行数\n",
    "        for j in range(imag_row.shape[1]):#imag_row.shape[1]为列数\n",
    "            imag_row[i,j]=g[imag_row[i,j]]\n",
    "    #判断是否写入成功\n",
    "    if(cv2.imwrite('{}.png'.format(save_name), imag_row)):\n",
    "        print(\"Successfully saved {}.png\".format(save_name))"
   ]
  },
  {
   "cell_type": "code",
   "execution_count": 6,
   "metadata": {},
   "outputs": [
    {
     "name": "stdout",
     "output_type": "stream",
     "text": [
      "Successfully saved shifted.png\n"
     ]
    }
   ],
   "source": [
    "specification(img_me,img_starnight,'shifted')"
   ]
  },
  {
   "cell_type": "code",
   "execution_count": 7,
   "metadata": {},
   "outputs": [
    {
     "data": {
      "image/png": "[encoded data removed]",
      "text/plain": [
       "<Figure size 432x288 with 1 Axes>"
      ]
     },
     "metadata": {
      "needs_background": "light"
     },
     "output_type": "display_data"
    }
   ],
   "source": [
    "#展示改变后的灰度\n",
    "img_shifted = cv2.imread('shifted.png')\n",
    "hist = cv2.calcHist([img_shifted],[0],None,[256],[0,256])\n",
    "plt.hist(img_me.ravel(),256); \n",
    "plt.show()"
   ]
  },
  {
   "cell_type": "code",
   "execution_count": null,
   "metadata": {},
   "outputs": [],
   "source": []
  }
 ],
 "metadata": {
  "kernelspec": {
   "display_name": "Python 3",
   "language": "python",
   "name": "python3"
  },
  "language_info": {
   "codemirror_mode": {
    "name": "ipython",
    "version": 3
   },
   "file_extension": ".py",
   "mimetype": "text/x-python",
   "name": "python",
   "nbconvert_exporter": "python",
   "pygments_lexer": "ipython3",
   "version": "3.6.9"
  }
 },
 "nbformat": 4,
 "nbformat_minor": 2
}
